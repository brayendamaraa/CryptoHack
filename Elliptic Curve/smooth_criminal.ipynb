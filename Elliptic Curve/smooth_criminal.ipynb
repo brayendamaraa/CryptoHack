{
 "cells": [
  {
   "cell_type": "code",
   "execution_count": null,
   "id": "48cb810e",
   "metadata": {
    "vscode": {
     "languageId": "sage"
    }
   },
   "outputs": [],
   "source": [
    "from Crypto.Cipher import AES\n",
    "from Crypto.Util.number import inverse\n",
    "from Crypto.Util.Padding import pad, unpad\n",
    "from collections import namedtuple\n",
    "from random import randint\n",
    "import hashlib\n",
    "import os"
   ]
  },
  {
   "cell_type": "code",
   "execution_count": 2,
   "id": "04af6f8e",
   "metadata": {
    "vscode": {
     "languageId": "sage"
    }
   },
   "outputs": [],
   "source": [
    "# Create a simple Point class to represent the affine points.\n",
    "Point = namedtuple(\"Point\", \"x y\")\n",
    "\n",
    "# The point at infinity (origin for the group law).\n",
    "O = 'Origin'\n",
    "\n",
    "FLAG = b'crypto{??????????????????????????????}'"
   ]
  },
  {
   "cell_type": "code",
   "execution_count": 4,
   "id": "565ab3c4",
   "metadata": {
    "vscode": {
     "languageId": "sage"
    }
   },
   "outputs": [],
   "source": [
    "def check_point(P: tuple):\n",
    "    if P == O:\n",
    "        return True\n",
    "    else:\n",
    "        return (P.y**2 - (P.x**3 + a*P.x + b)) % p == 0 and 0 <= P.x < p and 0 <= P.y < p\n",
    "\n",
    "\n",
    "def point_inverse(P: tuple):\n",
    "    if P == O:\n",
    "        return P\n",
    "    return Point(P.x, -P.y % p)\n",
    "\n",
    "\n",
    "def point_addition(P: tuple, Q: tuple):\n",
    "    # based of algo. in ICM\n",
    "    if P == O:\n",
    "        return Q\n",
    "    elif Q == O:\n",
    "        return P\n",
    "    elif Q == point_inverse(P):\n",
    "        return O\n",
    "    else:\n",
    "        if P == Q:\n",
    "            lam = (3*P.x**2 + a)*inverse(2*P.y, p)\n",
    "            lam %= p\n",
    "        else:\n",
    "            lam = (Q.y - P.y) * inverse((Q.x - P.x), p)\n",
    "            lam %= p\n",
    "    Rx = (lam**2 - P.x - Q.x) % p\n",
    "    Ry = (lam*(P.x - Rx) - P.y) % p\n",
    "    R = Point(Rx, Ry)\n",
    "    assert check_point(R)\n",
    "    return R\n",
    "\n",
    "\n",
    "def double_and_add(P: tuple, n: int):\n",
    "    # based of algo. in ICM\n",
    "    Q = P\n",
    "    R = O\n",
    "    while n > 0:\n",
    "        if n % 2 == 1:\n",
    "            R = point_addition(R, Q)\n",
    "        Q = point_addition(Q, Q)\n",
    "        n = n // 2\n",
    "    assert check_point(R)\n",
    "    return R"
   ]
  },
  {
   "cell_type": "code",
   "execution_count": 5,
   "id": "07b193ce",
   "metadata": {
    "vscode": {
     "languageId": "sage"
    }
   },
   "outputs": [],
   "source": [
    "def gen_shared_secret(Q: tuple, n: int):\n",
    "    # Bob's Public key, my secret int\n",
    "    S = double_and_add(Q, n)\n",
    "    return S.x\n",
    "\n",
    "\n",
    "def encrypt_flag(shared_secret: int):\n",
    "    # Derive AES key from shared secret\n",
    "    sha1 = hashlib.sha1()\n",
    "    sha1.update(str(shared_secret).encode('ascii'))\n",
    "    key = sha1.digest()[:16]\n",
    "    # Encrypt flag\n",
    "    iv = os.urandom(16)\n",
    "    cipher = AES.new(key, AES.MODE_CBC, iv)\n",
    "    ciphertext = cipher.encrypt(pad(FLAG, 16))\n",
    "    # Prepare data to send\n",
    "    data = {}\n",
    "    data['iv'] = iv.hex()\n",
    "    data['encrypted_flag'] = ciphertext.hex()\n",
    "    return data"
   ]
  },
  {
   "cell_type": "code",
   "execution_count": 16,
   "id": "e68fea5b",
   "metadata": {
    "vscode": {
     "languageId": "sage"
    }
   },
   "outputs": [],
   "source": [
    "# Define the curve\n",
    "p = 310717010502520989590157367261876774703\n",
    "a = 2\n",
    "b = 3\n",
    "\n",
    "# Generator\n",
    "g_x = 179210853392303317793440285562762725654\n",
    "g_y = 105268671499942631758568591033409611165\n",
    "G = E(g_x, g_y)"
   ]
  },
  {
   "cell_type": "code",
   "execution_count": 14,
   "id": "0f04fbee",
   "metadata": {
    "vscode": {
     "languageId": "sage"
    }
   },
   "outputs": [],
   "source": [
    "E = EllipticCurve(GF(p), [a,b])\n"
   ]
  },
  {
   "cell_type": "code",
   "execution_count": 9,
   "id": "6086e6d1",
   "metadata": {
    "vscode": {
     "languageId": "sage"
    }
   },
   "outputs": [],
   "source": [
    "a_x = 280810182131414898730378982766101210916\n",
    "a_y = 291506490768054478159835604632710368904\n",
    "A = E(a_x, a_y)"
   ]
  },
  {
   "cell_type": "code",
   "execution_count": 21,
   "id": "ec762fb2",
   "metadata": {
    "vscode": {
     "languageId": "sage"
    }
   },
   "outputs": [],
   "source": [
    "n = discrete_log(A, G, operation = '+', algorithm = 'bsgs')"
   ]
  },
  {
   "cell_type": "code",
   "execution_count": 17,
   "id": "779ced1e",
   "metadata": {
    "vscode": {
     "languageId": "sage"
    }
   },
   "outputs": [],
   "source": [
    "b_x = 272640099140026426377756188075937988094\n",
    "b_y = 51062462309521034358726608268084433317\n",
    "B = E(b_x, b_y)"
   ]
  },
  {
   "cell_type": "code",
   "execution_count": 32,
   "id": "8b44eb5e",
   "metadata": {
    "vscode": {
     "languageId": "sage"
    }
   },
   "outputs": [],
   "source": [
    "shared_point = n*B\n",
    "shared_secret = shared_point.x()"
   ]
  },
  {
   "cell_type": "code",
   "execution_count": 51,
   "id": "f578f18a",
   "metadata": {
    "vscode": {
     "languageId": "sage"
    }
   },
   "outputs": [],
   "source": [
    "ciphertext = bytes.fromhex(\"8220b7c47b36777a737f5ef9caa2814cf20c1c1ef496ec21a9b4833da24a008d0870d3ac3a6ad80065c138a2ed6136af\")\n",
    "iv = bytes.fromhex(\"07e2628b590095a5e332d397b8a59aa7\")"
   ]
  },
  {
   "cell_type": "code",
   "execution_count": 52,
   "id": "7e65d822",
   "metadata": {
    "vscode": {
     "languageId": "sage"
    }
   },
   "outputs": [],
   "source": [
    "def decrypt(ciphertext: bytes, shared_secret: int, iv: bytes) -> bytes:\n",
    "    # Step 1: Derive AES key\n",
    "    sha1 = hashlib.sha1()\n",
    "    sha1.update(str(shared_secret).encode('ascii'))  # must be bytes\n",
    "    key = sha1.digest()[:16]  # must be 16 bytes\n",
    "\n",
    "    # Step 2: Decrypt using AES CBC\n",
    "    cipher = AES.new(key, AES.MODE_CBC, iv)  # iv must be bytes\n",
    "    padded_plaintext = cipher.decrypt(ciphertext)\n",
    "    plaintext = unpad(padded_plaintext, 16)\n",
    "    return plaintext"
   ]
  },
  {
   "cell_type": "code",
   "execution_count": 54,
   "id": "b6118630",
   "metadata": {
    "vscode": {
     "languageId": "sage"
    }
   },
   "outputs": [
    {
     "name": "stdout",
     "output_type": "stream",
     "text": [
      "b'crypto{n07_4ll_curv3s_4r3_s4f3_curv3s}'\n"
     ]
    }
   ],
   "source": [
    "plaintext = decrypt(ciphertext, shared_secret, iv)\n",
    "print(plaintext)"
   ]
  },
  {
   "cell_type": "code",
   "execution_count": null,
   "id": "7709a70e",
   "metadata": {
    "vscode": {
     "languageId": "sage"
    }
   },
   "outputs": [],
   "source": []
  }
 ],
 "metadata": {
  "kernelspec": {
   "display_name": "SageMath 10.6",
   "language": "sage",
   "name": "sagemath"
  },
  "language_info": {
   "codemirror_mode": {
    "name": "ipython",
    "version": 3
   },
   "file_extension": ".py",
   "mimetype": "text/x-python",
   "name": "python",
   "nbconvert_exporter": "python",
   "pygments_lexer": "ipython3",
   "version": "3.11.12"
  }
 },
 "nbformat": 4,
 "nbformat_minor": 5
}
